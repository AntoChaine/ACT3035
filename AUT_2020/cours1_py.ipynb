{
  "nbformat": 4,
  "nbformat_minor": 0,
  "metadata": {
    "colab": {
      "name": "cours1_py_25nov.ipynb",
      "private_outputs": true,
      "provenance": [],
      "toc_visible": true
    },
    "kernelspec": {
      "name": "python3",
      "display_name": "Python 3"
    }
  },
  "cells": [
    {
      "cell_type": "markdown",
      "metadata": {
        "id": "FfOJzoeays9u"
      },
      "source": [
        "### Section_1 introduction:\n",
        "[lien](https://etudier.uqam.ca/cours?sigle=ACT6100)\n",
        "\n",
        "[lien vers site de ACT6100](https://etudier.uqam.ca/cours?sigle=ACT6100)\n",
        "\n",
        "ce code est un code `R`:\n",
        "\n",
        "\n",
        "```\n",
        "# This is formatted as code\n",
        "df<-read.csv(lien)\n",
        "```\n",
        "\n"
      ]
    },
    {
      "cell_type": "markdown",
      "metadata": {
        "id": "7RGNgTUl0At9"
      },
      "source": [
        "## Expressions en `Python`"
      ]
    },
    {
      "cell_type": "code",
      "metadata": {
        "id": "UJyN7NsCysBo"
      },
      "source": [
        "3*4"
      ],
      "execution_count": null,
      "outputs": []
    },
    {
      "cell_type": "code",
      "metadata": {
        "id": "IN0zqtjJyiyg"
      },
      "source": [
        "12**2"
      ],
      "execution_count": null,
      "outputs": []
    },
    {
      "cell_type": "markdown",
      "metadata": {
        "id": "joZrbBbA0zzX"
      },
      "source": [
        "Variables"
      ]
    },
    {
      "cell_type": "code",
      "metadata": {
        "id": "9PAUKkVz0iaN"
      },
      "source": [
        "x=20\n",
        "y=12\n",
        "z=-5"
      ],
      "execution_count": null,
      "outputs": []
    },
    {
      "cell_type": "code",
      "metadata": {
        "id": "kw2YMN_c1Cea"
      },
      "source": [
        "x+y*z"
      ],
      "execution_count": null,
      "outputs": []
    },
    {
      "cell_type": "code",
      "metadata": {
        "id": "L1XdNJnv2VH8"
      },
      "source": [
        "import math"
      ],
      "execution_count": null,
      "outputs": []
    },
    {
      "cell_type": "code",
      "metadata": {
        "id": "e71zWmy_1FFp"
      },
      "source": [
        "math.log(5)"
      ],
      "execution_count": null,
      "outputs": []
    },
    {
      "cell_type": "code",
      "metadata": {
        "id": "sOR7xBj51Y3C"
      },
      "source": [
        "math.log?"
      ],
      "execution_count": null,
      "outputs": []
    },
    {
      "cell_type": "markdown",
      "metadata": {
        "id": "Kf60jMF-3drE"
      },
      "source": [
        "## types de données"
      ]
    },
    {
      "cell_type": "code",
      "metadata": {
        "id": "yeNqYTZD2rYl"
      },
      "source": [
        "1+3"
      ],
      "execution_count": null,
      "outputs": []
    },
    {
      "cell_type": "code",
      "metadata": {
        "id": "Kke3DqS-3nvi"
      },
      "source": [
        "1.3"
      ],
      "execution_count": null,
      "outputs": []
    },
    {
      "cell_type": "code",
      "metadata": {
        "id": "sbkKXNV93rGP"
      },
      "source": [
        "3"
      ],
      "execution_count": null,
      "outputs": []
    },
    {
      "cell_type": "code",
      "metadata": {
        "id": "WpA_blld3t65"
      },
      "source": [
        "1"
      ],
      "execution_count": null,
      "outputs": []
    },
    {
      "cell_type": "code",
      "metadata": {
        "id": "RP3RlEiR3uld"
      },
      "source": [
        "3/1"
      ],
      "execution_count": null,
      "outputs": []
    },
    {
      "cell_type": "code",
      "metadata": {
        "id": "ihLuN49d3vmA"
      },
      "source": [
        "type(3)"
      ],
      "execution_count": null,
      "outputs": []
    },
    {
      "cell_type": "code",
      "metadata": {
        "id": "NX5N8_8d30Kw"
      },
      "source": [
        "type(3/1)"
      ],
      "execution_count": null,
      "outputs": []
    },
    {
      "cell_type": "code",
      "metadata": {
        "id": "fbEIKpdV31-J"
      },
      "source": [
        "\"bonjour\"+\" madame\""
      ],
      "execution_count": null,
      "outputs": []
    },
    {
      "cell_type": "code",
      "metadata": {
        "id": "24wxMRnI4NeT"
      },
      "source": [
        "\"bonjour\"+\" \"+\"madame\""
      ],
      "execution_count": null,
      "outputs": []
    },
    {
      "cell_type": "code",
      "metadata": {
        "id": "I61iMh_R4Uxm"
      },
      "source": [
        "str(1+4)"
      ],
      "execution_count": null,
      "outputs": []
    },
    {
      "cell_type": "code",
      "metadata": {
        "id": "i_oYDFPk4a7N"
      },
      "source": [
        "\"mon âge est \"+str(5)"
      ],
      "execution_count": null,
      "outputs": []
    },
    {
      "cell_type": "code",
      "metadata": {
        "id": "9XHWxB4t4jcn"
      },
      "source": [
        "\"bonjour\".upper()"
      ],
      "execution_count": null,
      "outputs": []
    },
    {
      "cell_type": "code",
      "metadata": {
        "id": "BT8TYa0O4r0D"
      },
      "source": [
        "\"bonjour\".replace(\"bo\", \"hi\")"
      ],
      "execution_count": null,
      "outputs": []
    },
    {
      "cell_type": "code",
      "metadata": {
        "id": "x_cOfU0k4z6V"
      },
      "source": [
        "3>5"
      ],
      "execution_count": null,
      "outputs": []
    },
    {
      "cell_type": "markdown",
      "metadata": {
        "id": "tVDklDn948eB"
      },
      "source": [
        "égale `==`\n",
        "\n",
        "Différent `!=`"
      ]
    },
    {
      "cell_type": "code",
      "metadata": {
        "id": "22smNR4D45vS"
      },
      "source": [
        "6==5"
      ],
      "execution_count": null,
      "outputs": []
    },
    {
      "cell_type": "code",
      "metadata": {
        "id": "e0d-TIeP5FoQ"
      },
      "source": [
        "6!=5"
      ],
      "execution_count": null,
      "outputs": []
    },
    {
      "cell_type": "markdown",
      "metadata": {
        "id": "WgrQW1og5WqV"
      },
      "source": [
        "En `R`\n",
        "\n",
        "vecteur `c(1,2,3,3)`\n",
        "\n",
        "vecteur `c(1:3)`\n",
        "\n",
        "vecteur `seq(1,25,5)`"
      ]
    },
    {
      "cell_type": "code",
      "metadata": {
        "id": "BnmQa7oV5SIl"
      },
      "source": [
        "liste=[1,2,3,4,5]"
      ],
      "execution_count": null,
      "outputs": []
    },
    {
      "cell_type": "code",
      "metadata": {
        "id": "ms4R6emW59Nk"
      },
      "source": [
        "liste+1"
      ],
      "execution_count": null,
      "outputs": []
    },
    {
      "cell_type": "code",
      "metadata": {
        "id": "uGI0gEWB5r_Z"
      },
      "source": [
        "import numpy as np"
      ],
      "execution_count": null,
      "outputs": []
    },
    {
      "cell_type": "code",
      "metadata": {
        "id": "d_at8AgL5tXV"
      },
      "source": [
        "np.array(liste)"
      ],
      "execution_count": null,
      "outputs": []
    },
    {
      "cell_type": "code",
      "metadata": {
        "id": "v_6OU-N5562w"
      },
      "source": [
        "np.array(liste)+5"
      ],
      "execution_count": null,
      "outputs": []
    },
    {
      "cell_type": "code",
      "metadata": {
        "id": "xaW0d93A945A"
      },
      "source": [
        "tableau =np.array(liste)"
      ],
      "execution_count": null,
      "outputs": []
    },
    {
      "cell_type": "code",
      "metadata": {
        "id": "ZBvy-aR5-sGp"
      },
      "source": [
        "tableau"
      ],
      "execution_count": null,
      "outputs": []
    },
    {
      "cell_type": "code",
      "metadata": {
        "id": "Kn7g3uUl-uIE"
      },
      "source": [
        "print(tableau)"
      ],
      "execution_count": null,
      "outputs": []
    },
    {
      "cell_type": "code",
      "metadata": {
        "id": "cUyxRuUC-vyv"
      },
      "source": [
        "tableau.sum()"
      ],
      "execution_count": null,
      "outputs": []
    },
    {
      "cell_type": "code",
      "metadata": {
        "id": "3I3U1uLy-1WL"
      },
      "source": [
        "len(tableau)"
      ],
      "execution_count": null,
      "outputs": []
    },
    {
      "cell_type": "code",
      "metadata": {
        "id": "0STLrN2r-4Gr"
      },
      "source": [
        "tableau.sum()/len(tableau)"
      ],
      "execution_count": null,
      "outputs": []
    },
    {
      "cell_type": "code",
      "metadata": {
        "id": "0ZSWwKNg-9ed"
      },
      "source": [
        "(1+2/100)*tableau+20"
      ],
      "execution_count": null,
      "outputs": []
    },
    {
      "cell_type": "code",
      "metadata": {
        "id": "hGdP5dA__GD2"
      },
      "source": [
        "tableau.mean()"
      ],
      "execution_count": null,
      "outputs": []
    },
    {
      "cell_type": "code",
      "metadata": {
        "id": "wiyXUItb_UUh"
      },
      "source": [
        "np.diff(tableau)"
      ],
      "execution_count": null,
      "outputs": []
    },
    {
      "cell_type": "code",
      "metadata": {
        "id": "E1YADdND_Zxm"
      },
      "source": [
        "np.prod(tableau)"
      ],
      "execution_count": null,
      "outputs": []
    },
    {
      "cell_type": "code",
      "metadata": {
        "id": "1H0lN7bh_glY"
      },
      "source": [
        "np.log(tableau)"
      ],
      "execution_count": null,
      "outputs": []
    },
    {
      "cell_type": "code",
      "metadata": {
        "id": "Rpm8bQLJ_m8E"
      },
      "source": [
        "np.sort(tableau)"
      ],
      "execution_count": null,
      "outputs": []
    },
    {
      "cell_type": "code",
      "metadata": {
        "id": "IRM2lRGx_o4H"
      },
      "source": [
        "np.sort?"
      ],
      "execution_count": null,
      "outputs": []
    },
    {
      "cell_type": "code",
      "metadata": {
        "id": "FimAHD3w_xcK"
      },
      "source": [
        "np.sort(tableau)"
      ],
      "execution_count": null,
      "outputs": []
    },
    {
      "cell_type": "code",
      "metadata": {
        "id": "bYRKr3wtANE0"
      },
      "source": [
        "import pandas as pd"
      ],
      "execution_count": null,
      "outputs": []
    },
    {
      "cell_type": "code",
      "metadata": {
        "id": "JmB9azO5AZXG"
      },
      "source": [
        "np.arange(5)"
      ],
      "execution_count": null,
      "outputs": []
    },
    {
      "cell_type": "code",
      "metadata": {
        "id": "G9XJVj-3An1_"
      },
      "source": [
        "np.arange(20,28)"
      ],
      "execution_count": null,
      "outputs": []
    },
    {
      "cell_type": "code",
      "metadata": {
        "id": "tFudSm2TAtEr"
      },
      "source": [
        "np.arange(20,30, 2)"
      ],
      "execution_count": null,
      "outputs": []
    },
    {
      "cell_type": "markdown",
      "metadata": {
        "id": "3fFFqGqqBMMY"
      },
      "source": [
        "$$1-\\frac{1}{3}+\\frac{1}{5}-\\frac{1}{7}...\\frac{1}{9999}\\simeq\\frac{\\pi}{4}$$"
      ]
    },
    {
      "cell_type": "markdown",
      "metadata": {
        "id": "Dn1CLMqkEbEh"
      },
      "source": [
        ""
      ]
    },
    {
      "cell_type": "code",
      "metadata": {
        "id": "2lOXAk_YA2SK"
      },
      "source": [
        "np.pi"
      ],
      "execution_count": null,
      "outputs": []
    },
    {
      "cell_type": "code",
      "metadata": {
        "id": "hHdsM6f7HaJd"
      },
      "source": [
        "positive=np.arange(1,10000, 4)\n",
        "print(positive)"
      ],
      "execution_count": null,
      "outputs": []
    },
    {
      "cell_type": "code",
      "metadata": {
        "id": "B1xHNSSGHyqy"
      },
      "source": [
        "partie_neg=np.arange(3, 10000,4)\n",
        "print(partie_neg)"
      ],
      "execution_count": null,
      "outputs": []
    },
    {
      "cell_type": "code",
      "metadata": {
        "id": "irBtDY55IXZC"
      },
      "source": [
        "(sum(1/positive)-sum(1/partie_neg))*4"
      ],
      "execution_count": null,
      "outputs": []
    },
    {
      "cell_type": "markdown",
      "metadata": {
        "id": "UUawRDjAJJG_"
      },
      "source": [
        "## Les fonctions"
      ]
    },
    {
      "cell_type": "code",
      "metadata": {
        "id": "uLxLWBvtF4Be"
      },
      "source": [
        "def estimepi(maxexpr):\n",
        "  positive=np.arange(1,maxexpr, 4)\n",
        "  partie_neg=np.arange(3, maxexpr,4)\n",
        "  pi=(sum(1/positive)-sum(1/partie_neg))*4\n",
        "  return(pi)"
      ],
      "execution_count": null,
      "outputs": []
    },
    {
      "cell_type": "code",
      "metadata": {
        "id": "UDy_vHnyI1sc"
      },
      "source": [
        "estimepi(10000)"
      ],
      "execution_count": null,
      "outputs": []
    },
    {
      "cell_type": "markdown",
      "metadata": {
        "id": "J3pMQ5ZrJ4xp"
      },
      "source": [
        "## pandas et les tables"
      ]
    },
    {
      "cell_type": "code",
      "metadata": {
        "id": "5pKscqHxI4d_"
      },
      "source": [
        "import pandas as pd"
      ],
      "execution_count": null,
      "outputs": []
    },
    {
      "cell_type": "code",
      "metadata": {
        "id": "3TvqVmVwKiWP"
      },
      "source": [
        "df=pd.read_csv(\"https://raw.githubusercontent.com/nmeraihi/data/master/AAPL_month.csv\")"
      ],
      "execution_count": null,
      "outputs": []
    },
    {
      "cell_type": "code",
      "metadata": {
        "id": "A9esH684LXxZ"
      },
      "source": [
        "df.head()"
      ],
      "execution_count": null,
      "outputs": []
    },
    {
      "cell_type": "code",
      "metadata": {
        "id": "tx01vVYnLZ4R"
      },
      "source": [
        ""
      ],
      "execution_count": null,
      "outputs": []
    }
  ]
}