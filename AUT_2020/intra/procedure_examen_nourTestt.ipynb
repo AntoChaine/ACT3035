{
 "cells": [
  {
   "cell_type": "markdown",
   "metadata": {},
   "source": [
    "# Consignes générales"
   ]
  },
  {
   "cell_type": "markdown",
   "metadata": {},
   "source": [
    "En vous connectant à la plateforme de l'examen intra du cours ACT3035, vous vous engager à respecter les règles suivantes;\n",
    "* L'examen commence à 09:00 pour une durée de 180 minutes;\n",
    "* Pendant la durée de l'examen, vous utiliser votre ordinateur **SEULEMENT** pour effectuer votre examen\n",
    "* Il est strictement interdit d'utiliser un quelconque moyen de communication pendant l'examen avec qui que ce soit;\n",
    "* Il est strictement interdit de faire des recherches sur le web;\n",
    "* Vous avez le droit de consulter vos propre notes du cours ([les notes du cours ACT3035](https://nour.me/act3035book/sommaire) ainsi que [github du cours ACT3035](https://github.com/nmeraihi/ACT3035));\n",
    "* Qu'une fois vous avez terminé l'examen, ou que le les 180 minutes sont écoulées, ou qu'à n'importe quel momemnt vous cliquez sur  une fois vous cliquez sur le bouton submit pour envoyez vos réponses, ces dernières seront envoyés et vous ne pourriez plus retourner en arrière pour revoir vos réponses;\n",
    "* L'examen compte pour 50% de la note finale;"
   ]
  },
  {
   "cell_type": "markdown",
   "metadata": {},
   "source": [
    "# Plateforme de l'examen ACT3035"
   ]
  },
  {
   "cell_type": "markdown",
   "metadata": {},
   "source": [
    "* Suivez le [lien suivant](https://nour.ngrok.io/) afin d'avoir accès à la plateforme de l'examen\n",
    "* Votre _Username_ est votre code permanant **BRUH123456**\n",
    "* votre _Password_ temporaire (que vous pouvez changez si vous le souhaitez) sont les six premiers caractères de votre code permanant **BRUH12**"
   ]
  },
  {
   "cell_type": "markdown",
   "metadata": {},
   "source": [
    "# Examen intra\n",
    "\n",
    "## Page d'accueil\n",
    "Cliquez sur le bouton **start** pour commencer la matière à intra\n",
    "\n",
    "![examen_intra](images/accueil.gif)"
   ]
  },
  {
   "cell_type": "markdown",
   "metadata": {},
   "source": [
    "## Débuter l'examen\n",
    "\n",
    "Lorsque vous cliquez sur le bouton **start** pour débuter l'examen, le temps 180 minutes accordé à cet examen débute alors. "
   ]
  },
  {
   "cell_type": "markdown",
   "metadata": {},
   "source": [
    "![examen_intra](images/debut_examen.gif)"
   ]
  },
  {
   "cell_type": "markdown",
   "metadata": {},
   "source": [
    "## Répondre au question à choix de réponse\n",
    "Cliquez sur la réponse que vous choissez dans le choix de réponse, ensuite cliquez sur le bouton **submit answer** pour sauvegarder votre réponse ou sur le bouton **attempt later** pour passer à la question suivante.\n",
    "\n",
    "Vous pouvez naviguez dans les question en cliquant sur les numéros de ceux-ci (tableau gauche)\n",
    "\n",
    "![examen_intra](images/reponses_questions.gif)\n",
    "\n"
   ]
  },
  {
   "cell_type": "markdown",
   "metadata": {},
   "source": [
    "## Fin de l'examen (questions à choix de réponses)\n",
    "\n",
    "Lorsque vous finissez l'examen en cliquant sur le bouton **quit exam**, un résumé des dquestions compplétées (ou pas) vous serez affiché, lorsque vous cliquez sur le bouton **yes** poyr confirmer que vous quittez l'examen, vous ne pouvvez plus retourner en arrière pour revoir vos réponses.\n",
    "\n",
    "![examen_intra](images/envoie_examen.gif)"
   ]
  },
  {
   "cell_type": "markdown",
   "metadata": {},
   "source": [
    "## Questions à développement"
   ]
  },
  {
   "cell_type": "markdown",
   "metadata": {},
   "source": [
    "Pour les question à développements (titre de la question commence par **prob** <5 points par question>), vous devez déposer votre script R nomé avec votre  code permanant (exemple BRUH123456)"
   ]
  },
  {
   "cell_type": "code",
   "execution_count": null,
   "metadata": {},
   "outputs": [],
   "source": []
  }
 ],
 "metadata": {
  "kernelspec": {
   "display_name": "Python 3",
   "language": "python",
   "name": "python3"
  },
  "language_info": {
   "codemirror_mode": {
    "name": "ipython",
    "version": 3
   },
   "file_extension": ".py",
   "mimetype": "text/x-python",
   "name": "python",
   "nbconvert_exporter": "python",
   "pygments_lexer": "ipython3",
   "version": "3.7.6"
  }
 },
 "nbformat": 4,
 "nbformat_minor": 4
}
