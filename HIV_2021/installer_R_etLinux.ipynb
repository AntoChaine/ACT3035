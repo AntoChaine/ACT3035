{
 "cells": [
  {
   "cell_type": "markdown",
   "metadata": {},
   "source": [
    "# Installation de RStudio"
   ]
  },
  {
   "cell_type": "markdown",
   "metadata": {},
   "source": [
    "Comme vous le savez, nous allons commencer à travailler avec [R](https://www.r-project.org/about.html) dans les prochains cours. Notre outil qui va exécuter nos lignes de code R sera RStudio. Ce dernier est un environnement de développement multiplateforme pour R. \n",
    "\n",
    "Dans ce tutoriel, je vous montre les trois façons d'installer [RStudio](https://www.rstudio.com/), selon votre préférence:\n",
    "1. Sous Linux\n",
    "2. Sous macOS\n",
    "3. sous Windows"
   ]
  },
  {
   "cell_type": "markdown",
   "metadata": {},
   "source": [
    "## Linux Ubuntu"
   ]
  },
  {
   "cell_type": "markdown",
   "metadata": {},
   "source": [
    "1. Appuyez sur **`Ctrl+Alt+T`** afin d'ouvrir le terminal.\n",
    "2. entrez la commande suivante: **`sudo apt-get update`**\n",
    "1. Ça va vous demander le mot de passe, vous entrer **`qwerty`**. (c'est le mot de passe qui vous a été assigné au laboratoire)\n",
    "2. Ensuite, appuyez sur la touche **`Enter`** afin d'avoir les dernières mises à jour\n",
    "3. Ensuite, nous installons R avec la commande suivante: **`sudo apt-get install r-base`** appuyer sur la touche **`Enter`**\n",
    "\n",
    "Maintenant, installons RStudio\n",
    "\n",
    "1. Allez sur le site [RStudio](https://www.rstudio.com/products/rstudio/download/#download) et téléchargez la version **`RStudio x.x.xxx - Ubuntu 16.04+/Debian 9+ (64-bit)\n",
    "`** \n",
    "2. nous devons maintenant installer ce que nous venons de télécharger, pour ce faire, nous allons dans le répertoire où se trouve le fichier téléchargé avec la commande suivante:\n",
    "1. **`cd Téléchargement`** ou **`cd Downloads`** pour ceux qui ont installé la version anglaise de Linux Ubuntu sur leur ordinateur personnel\n",
    "3. Nous devons décompresser le fichier téléchargé avec la commande suivante : `sudo dpkg -i <nom-du-fichier-téléchargé.deb>`\n",
    "4. installer ensuite le fichier avec la commande **`sudo apt-get -f install`**"
   ]
  },
  {
   "cell_type": "markdown",
   "metadata": {},
   "source": [
    "## macOS"
   ]
  },
  {
   "cell_type": "markdown",
   "metadata": {},
   "source": [
    "Si vous êtes fan des produits de la pomme, il vous sera très facile d'installer RStudio;"
   ]
  },
  {
   "cell_type": "markdown",
   "metadata": {},
   "source": [
    "1. Téléchargez R en suivant [ce lien](http://cran.us.r-project.org/)\n",
    "2. Choisir **`Download R for (Mac) OS X`**\n",
    "3. Installer R\n",
    "4. Téléchargez et installez [RStudio](https://www.rstudio.com/products/rstudio/download/#download) pour **`Mac OS X`**"
   ]
  },
  {
   "cell_type": "markdown",
   "metadata": {},
   "source": [
    "## Windows"
   ]
  },
  {
   "cell_type": "markdown",
   "metadata": {},
   "source": [
    "Si vous tenez à travailler sous cet environnement;"
   ]
  },
  {
   "cell_type": "markdown",
   "metadata": {},
   "source": [
    "1. Téléchargz R en suivant [ce lien](http://cran.us.r-project.org/)\n",
    "2. Choisir **`Download R for Windows`**\n",
    "3. Installer R\n",
    "4. Télécharger et installez [RStudio](https://www.rstudio.com/products/rstudio/download/#download) pour **`Windows Vista/7/8/10`**\n"
   ]
  }
 ],
 "metadata": {
  "anaconda-cloud": {},
  "kernelspec": {
   "display_name": "Python 3",
   "language": "python",
   "name": "python3"
  },
  "language_info": {
   "codemirror_mode": {
    "name": "ipython",
    "version": 3
   },
   "file_extension": ".py",
   "mimetype": "text/x-python",
   "name": "python",
   "nbconvert_exporter": "python",
   "pygments_lexer": "ipython3",
   "version": "3.7.6"
  },
  "latex_envs": {
   "LaTeX_envs_menu_present": true,
   "bibliofile": "biblio.bib",
   "cite_by": "apalike",
   "current_citInitial": 1,
   "eqLabelWithNumbers": true,
   "eqNumInitial": 1,
   "labels_anchors": false,
   "latex_user_defs": false,
   "report_style_numbering": false,
   "user_envs_cfg": false
  },
  "toc": {
   "colors": {
    "hover_highlight": "#DAA520",
    "running_highlight": "#FF0000",
    "selected_highlight": "#FFD700"
   },
   "moveMenuLeft": true,
   "nav_menu": {
    "height": "246px",
    "width": "252px"
   },
   "navigate_menu": true,
   "number_sections": true,
   "sideBar": true,
   "threshold": 4,
   "toc_cell": true,
   "toc_position": {
    "height": "676px",
    "left": "0px",
    "right": "1105px",
    "top": "106px",
    "width": "335px"
   },
   "toc_section_display": "block",
   "toc_window_display": true
  }
 },
 "nbformat": 4,
 "nbformat_minor": 4
}
