{
  "nbformat": 4,
  "nbformat_minor": 0,
  "metadata": {
    "colab": {
      "name": "cours_1_python.ipynb",
      "provenance": [],
      "private_outputs": true,
      "collapsed_sections": []
    },
    "kernelspec": {
      "name": "python3",
      "display_name": "Python 3"
    }
  },
  "cells": [
    {
      "cell_type": "code",
      "metadata": {
        "id": "8CpCfLp7WIdr",
        "colab_type": "code",
        "colab": {}
      },
      "source": [
        "print(\"bonjour\")"
      ],
      "execution_count": 0,
      "outputs": []
    },
    {
      "cell_type": "code",
      "metadata": {
        "id": "XCJu38MOWSaK",
        "colab_type": "code",
        "colab": {}
      },
      "source": [
        "3/5"
      ],
      "execution_count": 0,
      "outputs": []
    },
    {
      "cell_type": "code",
      "metadata": {
        "id": "4VU9tSDaXJOp",
        "colab_type": "code",
        "colab": {}
      },
      "source": [
        "4**5"
      ],
      "execution_count": 0,
      "outputs": []
    },
    {
      "cell_type": "code",
      "metadata": {
        "id": "haW9qVHHXLNH",
        "colab_type": "code",
        "colab": {}
      },
      "source": [
        "from math import sqrt"
      ],
      "execution_count": 0,
      "outputs": []
    },
    {
      "cell_type": "code",
      "metadata": {
        "id": "ttJyF5FyXaOU",
        "colab_type": "code",
        "colab": {}
      },
      "source": [
        "sqrt(25)"
      ],
      "execution_count": 0,
      "outputs": []
    },
    {
      "cell_type": "code",
      "metadata": {
        "id": "5ZnaRTqCXcMO",
        "colab_type": "code",
        "colab": {}
      },
      "source": [
        "variable=90"
      ],
      "execution_count": 0,
      "outputs": []
    },
    {
      "cell_type": "code",
      "metadata": {
        "id": "6zjEBECGXmW5",
        "colab_type": "code",
        "colab": {}
      },
      "source": [
        "variable/2"
      ],
      "execution_count": 0,
      "outputs": []
    },
    {
      "cell_type": "code",
      "metadata": {
        "id": "ozUviGmpXoEx",
        "colab_type": "code",
        "colab": {}
      },
      "source": [
        "variable/4"
      ],
      "execution_count": 0,
      "outputs": []
    },
    {
      "cell_type": "code",
      "metadata": {
        "id": "Mg3M_VRJYJfD",
        "colab_type": "code",
        "colab": {}
      },
      "source": [
        "villes=[\"Montréal\", \"Laval\", \"Québec\"]"
      ],
      "execution_count": 0,
      "outputs": []
    },
    {
      "cell_type": "code",
      "metadata": {
        "id": "Ph7FkdsxY5nF",
        "colab_type": "code",
        "colab": {}
      },
      "source": [
        "villes"
      ],
      "execution_count": 0,
      "outputs": []
    },
    {
      "cell_type": "code",
      "metadata": {
        "id": "C8wMW5pnY6sf",
        "colab_type": "code",
        "colab": {}
      },
      "source": [
        "villes[0]"
      ],
      "execution_count": 0,
      "outputs": []
    },
    {
      "cell_type": "code",
      "metadata": {
        "id": "jSTXkyenZDy9",
        "colab_type": "code",
        "colab": {}
      },
      "source": [
        "list(range(13))"
      ],
      "execution_count": 0,
      "outputs": []
    },
    {
      "cell_type": "code",
      "metadata": {
        "id": "UlJqoidLZhzB",
        "colab_type": "code",
        "colab": {}
      },
      "source": [
        "nquoi=[\"string\", 3.14, True]"
      ],
      "execution_count": 0,
      "outputs": []
    },
    {
      "cell_type": "code",
      "metadata": {
        "id": "k2bvxCvdZzHs",
        "colab_type": "code",
        "colab": {}
      },
      "source": [
        "nquoi"
      ],
      "execution_count": 0,
      "outputs": []
    },
    {
      "cell_type": "code",
      "metadata": {
        "id": "Ile3R0IYZ0ks",
        "colab_type": "code",
        "colab": {}
      },
      "source": [
        "print(nquoi)"
      ],
      "execution_count": 0,
      "outputs": []
    },
    {
      "cell_type": "code",
      "metadata": {
        "id": "FjtjMEFYZ3JT",
        "colab_type": "code",
        "colab": {}
      },
      "source": [
        "list13=list(range(13))"
      ],
      "execution_count": 0,
      "outputs": []
    },
    {
      "cell_type": "code",
      "metadata": {
        "id": "SUWYOfzYZ_vH",
        "colab_type": "code",
        "colab": {}
      },
      "source": [
        "len(list13)"
      ],
      "execution_count": 0,
      "outputs": []
    },
    {
      "cell_type": "markdown",
      "metadata": {
        "id": "QZoFnwfUaRDS",
        "colab_type": "text"
      },
      "source": [
        "## les boucles"
      ]
    },
    {
      "cell_type": "code",
      "metadata": {
        "id": "wCzMnWyMaBlN",
        "colab_type": "code",
        "colab": {}
      },
      "source": [
        "for i in villes:\n",
        "  print(i)"
      ],
      "execution_count": 0,
      "outputs": []
    },
    {
      "cell_type": "code",
      "metadata": {
        "id": "tu2eH2JtacGU",
        "colab_type": "code",
        "colab": {}
      },
      "source": [
        "for i in villes:\n",
        "  print(i+ \" est touchée par covid 19\")"
      ],
      "execution_count": 0,
      "outputs": []
    },
    {
      "cell_type": "code",
      "metadata": {
        "id": "JUFVvYdxatqp",
        "colab_type": "code",
        "colab": {}
      },
      "source": [
        "for toto in villes:\n",
        "  print(toto+ \" est touchée par covid 19\")"
      ],
      "execution_count": 0,
      "outputs": []
    },
    {
      "cell_type": "code",
      "metadata": {
        "id": "v2Ce96L-bS7t",
        "colab_type": "code",
        "colab": {}
      },
      "source": [
        "1==2"
      ],
      "execution_count": 0,
      "outputs": []
    },
    {
      "cell_type": "code",
      "metadata": {
        "id": "iHFcOP_bbYJl",
        "colab_type": "code",
        "colab": {}
      },
      "source": [
        "2==2"
      ],
      "execution_count": 0,
      "outputs": []
    },
    {
      "cell_type": "code",
      "metadata": {
        "id": "kaAORFFFbZIz",
        "colab_type": "code",
        "colab": {}
      },
      "source": [
        "1!=2"
      ],
      "execution_count": 0,
      "outputs": []
    },
    {
      "cell_type": "code",
      "metadata": {
        "id": "5VmJ64oYbbXm",
        "colab_type": "code",
        "colab": {}
      },
      "source": [
        "2!=2"
      ],
      "execution_count": 0,
      "outputs": []
    },
    {
      "cell_type": "code",
      "metadata": {
        "id": "WUsT4kRsbdaX",
        "colab_type": "code",
        "colab": {}
      },
      "source": [
        "2>1"
      ],
      "execution_count": 0,
      "outputs": []
    },
    {
      "cell_type": "code",
      "metadata": {
        "id": "dNpTeLaYbfap",
        "colab_type": "code",
        "colab": {}
      },
      "source": [
        "[1,2,3]==[1,2,3]"
      ],
      "execution_count": 0,
      "outputs": []
    },
    {
      "cell_type": "code",
      "metadata": {
        "id": "60fCV0oTbloO",
        "colab_type": "code",
        "colab": {}
      },
      "source": [
        "[1,2,3]==[1,2,4]"
      ],
      "execution_count": 0,
      "outputs": []
    },
    {
      "cell_type": "code",
      "metadata": {
        "id": "xCEAmgajbnfp",
        "colab_type": "code",
        "colab": {}
      },
      "source": [
        "mondiction={\"François\":55, \n",
        "            \"Arruda\":58}"
      ],
      "execution_count": 0,
      "outputs": []
    },
    {
      "cell_type": "code",
      "metadata": {
        "id": "q7ZungtLcDzh",
        "colab_type": "code",
        "colab": {}
      },
      "source": [
        "mondiction[\"François\"]"
      ],
      "execution_count": 0,
      "outputs": []
    },
    {
      "cell_type": "code",
      "metadata": {
        "id": "vx7Tj_sOcOBn",
        "colab_type": "code",
        "colab": {}
      },
      "source": [
        "def somme(x,y):\n",
        "  reponse=x+y\n",
        "  return reponse"
      ],
      "execution_count": 0,
      "outputs": []
    },
    {
      "cell_type": "code",
      "metadata": {
        "id": "7tNydL9Wci4Q",
        "colab_type": "code",
        "colab": {}
      },
      "source": [
        "somme(1,3)"
      ],
      "execution_count": 0,
      "outputs": []
    },
    {
      "cell_type": "markdown",
      "metadata": {
        "id": "tATBSbmPdLJm",
        "colab_type": "text"
      },
      "source": [
        "# Vecteurs"
      ]
    },
    {
      "cell_type": "code",
      "metadata": {
        "id": "iMqDQO4Lcj_L",
        "colab_type": "code",
        "colab": {}
      },
      "source": [
        "import numpy as np"
      ],
      "execution_count": 0,
      "outputs": []
    },
    {
      "cell_type": "code",
      "metadata": {
        "id": "CkZH9Lk7dRxU",
        "colab_type": "code",
        "colab": {}
      },
      "source": [
        "malist=[1,2,3,4,5]"
      ],
      "execution_count": 0,
      "outputs": []
    },
    {
      "cell_type": "code",
      "metadata": {
        "id": "bPAnV-ZodvB0",
        "colab_type": "code",
        "colab": {}
      },
      "source": [
        "malist"
      ],
      "execution_count": 0,
      "outputs": []
    },
    {
      "cell_type": "code",
      "metadata": {
        "id": "l03FIMzCdwXk",
        "colab_type": "code",
        "colab": {}
      },
      "source": [
        "malist_vec=np.array(malist)"
      ],
      "execution_count": 0,
      "outputs": []
    },
    {
      "cell_type": "code",
      "metadata": {
        "id": "jzb6b-dld2gA",
        "colab_type": "code",
        "colab": {}
      },
      "source": [
        "malist_vec"
      ],
      "execution_count": 0,
      "outputs": []
    },
    {
      "cell_type": "code",
      "metadata": {
        "id": "d4H-ll9Vd5dm",
        "colab_type": "code",
        "colab": {}
      },
      "source": [
        "# malist/3"
      ],
      "execution_count": 0,
      "outputs": []
    },
    {
      "cell_type": "code",
      "metadata": {
        "id": "U4UuQwl9d-SV",
        "colab_type": "code",
        "colab": {}
      },
      "source": [
        "malist_vec/3"
      ],
      "execution_count": 0,
      "outputs": []
    },
    {
      "cell_type": "code",
      "metadata": {
        "id": "o0VYBBrCeFVp",
        "colab_type": "code",
        "colab": {}
      },
      "source": [
        "np.zeros(5)"
      ],
      "execution_count": 0,
      "outputs": []
    },
    {
      "cell_type": "code",
      "metadata": {
        "id": "Lv0TXk5LeNd8",
        "colab_type": "code",
        "colab": {}
      },
      "source": [
        "np.ones(5)"
      ],
      "execution_count": 0,
      "outputs": []
    },
    {
      "cell_type": "code",
      "metadata": {
        "id": "KuFdQ6OeeP_p",
        "colab_type": "code",
        "colab": {}
      },
      "source": [
        "np.arange(5)"
      ],
      "execution_count": 0,
      "outputs": []
    },
    {
      "cell_type": "code",
      "metadata": {
        "id": "uu8a_KHSeYM6",
        "colab_type": "code",
        "colab": {}
      },
      "source": [
        ""
      ],
      "execution_count": 0,
      "outputs": []
    }
  ]
}