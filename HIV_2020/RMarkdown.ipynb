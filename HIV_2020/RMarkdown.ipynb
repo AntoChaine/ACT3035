{
 "cells": [
  {
   "cell_type": "markdown",
   "metadata": {},
   "source": [
    "# R Markdown"
   ]
  },
  {
   "cell_type": "markdown",
   "metadata": {},
   "source": [
    "R Markdown fournit un cadre de rédaction unifié pour la science des données, combinant votre code, ses résultats et vos commentaires en prose. Les documents R Markdown sont entièrement reproductibles et prennent en charge des dizaines de formats de sortie, tels que les PDF, les fichiers Word, les diaporamas (_slides_) et bien d'autres encore.\n",
    "\n",
    "On peut utiliser les fichiers `R Markdown` pour communiquer ses résultats, à des fins de collaborations avec ses pairs ou comme cahier de travail (_notebook_). \n",
    "\n",
    "Dans ces _notebook_, on peut afficher du texte, du code ainsi que les résultats."
   ]
  },
  {
   "cell_type": "markdown",
   "metadata": {
    "nbpresent": {
     "id": "8e229949-40e5-4792-ac10-6c9195c4a1a2"
    },
    "slideshow": {
     "slide_type": "skip"
    }
   },
   "source": [
    "La première publication en astronomie utilisant un télescope comme moyen d'observation était celle de Galileo en 1610. Il prouve alors que la terre tourne autour du soleil comme la lune autour de jupiter."
   ]
  },
  {
   "cell_type": "markdown",
   "metadata": {
    "nbpresent": {
     "id": "be736339-0f62-4dd0-a92d-04fbe31faf2e"
    },
    "slideshow": {
     "slide_type": "subslide"
    }
   },
   "source": [
    "<img src=\"http://upload.wikimedia.org/wikipedia/commons/d/d0/Sidereus_Nuncius_Medicean_Stars.jpg\">\n",
    "<center>Image(s) courtesy of the History of Science Collections, University of Oklahoma Libraries.</center>"
   ]
  },
  {
   "cell_type": "markdown",
   "metadata": {
    "slideshow": {
     "slide_type": "subslide"
    }
   },
   "source": [
    "Un _notebook_ est composé de cellules, dans chaque cellule nous pouvons :\n",
    "1. écrire du texte\n",
    "2. exécuter du code"
   ]
  },
  {
   "cell_type": "markdown",
   "metadata": {},
   "source": [
    "# Les bases"
   ]
  },
  {
   "cell_type": "markdown",
   "metadata": {},
   "source": [
    "Un fichier `R Markdown` ontient trois types de contenu importants :\n",
    "\n",
    "1. Un en-tête YAML (facultatif) entouré de ---s.\n",
    "2. Des morceaux de code R entourés de ```.\n",
    "3. Du texte mélangé avec un formatage simple comme l'en-tête en # et les _italiques_.\n",
    "\n",
    "Lorsque vous ouvrez un .Rmd, vous obtenez une interface de notebook où le code et la sortie sont ensemble. Vous pouvez exécuter chaque morceau de code en cliquant sur l'icône `Run` (qui ressemble à un bouton de lecture en haut du morceau), ou en appuyant sur `Cmd/Ctrl + Shift + Enter`. RStudio exécute le code et affiche les résultats en ligne avec le code :\n"
   ]
  },
  {
   "cell_type": "markdown",
   "metadata": {},
   "source": [
    "![aa](https://d33wubrfki0l68.cloudfront.net/853becd7fc7d20e3a63f52b23f522d6f0d06e066/88250/rmarkdown/diamond-sizes-notebook.png)"
   ]
  },
  {
   "cell_type": "markdown",
   "metadata": {},
   "source": [
    "Pour produire un rapport complet contenant tout le texte, le code et les résultats, cliquez sur `Knitr` ou appuyez sur `Cmd/Ctrl + Shift + K`. Le rapport s'affichera alors dans le panneau de visualisation et créera un fichier HTML autonome que vous pourrez partager avec d'autres personnes."
   ]
  },
  {
   "cell_type": "markdown",
   "metadata": {},
   "source": [
    "![aaa](https://d33wubrfki0l68.cloudfront.net/bd9201291793647e2187bf21af706afac255b2aa/28e87/rmarkdown/diamond-sizes-report.png)"
   ]
  },
  {
   "cell_type": "markdown",
   "metadata": {
    "nbpresent": {
     "id": "40589b3d-6de1-4d8c-9602-7fca73de51d5"
    },
    "slideshow": {
     "slide_type": "slide"
    }
   },
   "source": [
    "# Du text avec Markdown"
   ]
  },
  {
   "cell_type": "markdown",
   "metadata": {
    "nbpresent": {
     "id": "ff90859d-23eb-4d8d-9807-92a8727814e9"
    },
    "slideshow": {
     "slide_type": "subslide"
    }
   },
   "source": [
    "## Les titres\n",
    "\n",
    "# H1\n",
    "## H2\n",
    "### H3\n",
    "#### H4\n",
    "##### H5\n",
    "###### H6"
   ]
  },
  {
   "cell_type": "markdown",
   "metadata": {
    "nbpresent": {
     "id": "c0ecff79-7a8f-4435-a38b-0a5295daf575"
    },
    "slideshow": {
     "slide_type": "subslide"
    }
   },
   "source": [
    "**Code:**\n",
    "```markdown\n",
    "#H1\n",
    "##H2\n",
    "###H3\n",
    "####H4\n",
    "#####H5\n",
    "######H6\n",
    "```"
   ]
  },
  {
   "cell_type": "markdown",
   "metadata": {
    "nbpresent": {
     "id": "7eebedd8-a0c9-4c2b-b608-500a338a96ad"
    },
    "slideshow": {
     "slide_type": "slide"
    }
   },
   "source": [
    "## Font Styles"
   ]
  },
  {
   "cell_type": "markdown",
   "metadata": {
    "nbpresent": {
     "id": "3f1b3f26-80b6-44df-8885-a25612c9392f"
    },
    "slideshow": {
     "slide_type": "subslide"
    }
   },
   "source": [
    "**Bold Font** or __Bold Font__\n",
    "\n",
    "**Code:**\n",
    "```markdown\n",
    "**Bold Font** or __Bold Font__\n",
    "```"
   ]
  },
  {
   "cell_type": "markdown",
   "metadata": {
    "nbpresent": {
     "id": "acc67bfc-0f89-496a-82a5-f8cafbbee7c5"
    },
    "slideshow": {
     "slide_type": "subslide"
    }
   },
   "source": [
    "*Italic* or _Italic Font_\n",
    "\n",
    "**Code:**\n",
    "```markdown\n",
    "*Italic* or _Italic Font_\n",
    "```"
   ]
  },
  {
   "cell_type": "markdown",
   "metadata": {
    "nbpresent": {
     "id": "b816f272-d21b-4f96-9789-ff865a9a6a62"
    },
    "slideshow": {
     "slide_type": "subslide"
    }
   },
   "source": [
    "~~Scratched Text~~\n",
    "\n",
    "**Code:**\n",
    "```markdown\n",
    "~~Scratched Text~~\n",
    "```"
   ]
  },
  {
   "cell_type": "markdown",
   "metadata": {
    "nbpresent": {
     "id": "2ac7c1f2-5892-4331-b050-75b00f32836c"
    },
    "slideshow": {
     "slide_type": "subslide"
    }
   },
   "source": [
    "<u>underline</u>\n",
    "\n",
    "**Code:**\n",
    "```html\n",
    "<u>underline</u\n",
    "```"
   ]
  },
  {
   "cell_type": "markdown",
   "metadata": {
    "nbpresent": {
     "id": "dbadf28b-d791-4dc0-a5d6-965b19848920"
    },
    "slideshow": {
     "slide_type": "slide"
    }
   },
   "source": [
    "## Lists"
   ]
  },
  {
   "cell_type": "markdown",
   "metadata": {
    "nbpresent": {
     "id": "e9a944ea-037b-487a-950d-a14b09da1aae"
    },
    "slideshow": {
     "slide_type": "subslide"
    }
   },
   "source": [
    "- item\n",
    "- item\n",
    " - subitem\n",
    " - subitem\n",
    "- item\n",
    "\n",
    "**Code:**\n",
    "```markdown\n",
    "- item\n",
    "- item\n",
    " - subitem\n",
    " - subitem\n",
    "- item\n",
    "```"
   ]
  },
  {
   "cell_type": "markdown",
   "metadata": {
    "nbpresent": {
     "id": "75dc2633-e101-42f3-b4d4-72056a4a4b51"
    },
    "slideshow": {
     "slide_type": "subslide"
    }
   },
   "source": [
    "+ One\n",
    "- Two\n",
    "* Three\n",
    "\n",
    "**Code:**\n",
    "```markdown\n",
    "+ One\n",
    "- Two\n",
    "* Three\n",
    "```"
   ]
  },
  {
   "cell_type": "markdown",
   "metadata": {
    "nbpresent": {
     "id": "6c7e2800-6398-45b2-be65-301bc670c1d0"
    },
    "slideshow": {
     "slide_type": "subslide"
    }
   },
   "source": [
    "1. item\n",
    "2. item\n",
    " 1. sub item\n",
    " 2. sub item\n",
    "3. item\n",
    "\n",
    "**Code:**\n",
    "```markdown\n",
    "1. item\n",
    "2. item\n",
    " 1. sub item\n",
    " 2. sub item\n",
    "3. item\n",
    "```"
   ]
  },
  {
   "cell_type": "markdown",
   "metadata": {
    "nbpresent": {
     "id": "da23e19e-e57f-4461-ac6f-ddfebc225223"
    },
    "slideshow": {
     "slide_type": "slide"
    }
   },
   "source": [
    "## Links"
   ]
  },
  {
   "cell_type": "markdown",
   "metadata": {
    "nbpresent": {
     "id": "fa12888b-0959-45f8-9ba1-953cd04be7f5"
    },
    "slideshow": {
     "slide_type": "subslide"
    }
   },
   "source": [
    "[un lien vers une page](https://www.strava.com/dashboard)\n",
    "\n",
    "**Code:**\n",
    "```markdown\n",
    "[un lien vers une page](https://www.strava.com/dashboard)\n",
    "```"
   ]
  },
  {
   "cell_type": "markdown",
   "metadata": {
    "nbpresent": {
     "id": "6e87ef7d-013f-4a55-830f-c412ae72d751"
    },
    "slideshow": {
     "slide_type": "subslide"
    }
   },
   "source": [
    "[un lien vers une page avec un titre](https://www.strava.com/dashboard \"avec un titre\")\n",
    "\n",
    "**Code:**\n",
    "```markdown\n",
    "[un lien vers une page \"avec un titre\"](https://www.strava.com/dashboard \"avec un titre\")\n",
    "```"
   ]
  },
  {
   "cell_type": "markdown",
   "metadata": {
    "nbpresent": {
     "id": "65af320c-fc92-4c02-9153-c8f8870f4db4"
    },
    "slideshow": {
     "slide_type": "subslide"
    }
   },
   "source": [
    "Les liens vers des pages web avec https://www...etc se font automatiquement. Des fois il faut les inclure entre crochets <https://www.strava.com>"
   ]
  },
  {
   "cell_type": "markdown",
   "metadata": {
    "nbpresent": {
     "id": "c546dc74-840d-42bb-9e3f-06cadef02d54"
    },
    "slideshow": {
     "slide_type": "slide"
    }
   },
   "source": [
    "# Les images"
   ]
  },
  {
   "cell_type": "markdown",
   "metadata": {
    "nbpresent": {
     "id": "215c2267-851d-48fc-b1e1-edd47f941d36"
    },
    "slideshow": {
     "slide_type": "skip"
    }
   },
   "source": [
    "### Inline-style\n",
    "**Code:**\n",
    "```markdown\n",
    "![alt text](https://d33wubrfki0l68.cloudfront.net/c40ce5f7cd12d07c0cb83aebf301e210500f6218/7e628/lesson-images/params-1-hawaii.png \"le titre de l'image\")\n",
    "```"
   ]
  },
  {
   "cell_type": "markdown",
   "metadata": {
    "nbpresent": {
     "id": "e49d8b33-e177-4337-a303-c40cbd614139"
    },
    "slideshow": {
     "slide_type": "subslide"
    }
   },
   "source": [
    "### Inline-style: \n",
    "![alt text](https://d33wubrfki0l68.cloudfront.net/c40ce5f7cd12d07c0cb83aebf301e210500f6218/7e628/lesson-images/params-1-hawaii.png)"
   ]
  },
  {
   "cell_type": "markdown",
   "metadata": {
    "nbpresent": {
     "id": "9ec1b801-7cfc-4638-b70c-33438b65e4c0"
    },
    "slideshow": {
     "slide_type": "skip"
    }
   },
   "source": [
    "### Reference-style:\n",
    "**code** \n",
    "\n",
    "```markdown\n",
    "![alt text][R_Markdown]\n",
    "\n",
    "[R_Markdown]: https://d33wubrfki0l68.cloudfront.net/c40ce5f7cd12d07c0cb83aebf301e210500f6218/7e628/lesson-images/params-1-hawaii.png \"Logo Title Text 2\"\n",
    "```"
   ]
  },
  {
   "cell_type": "markdown",
   "metadata": {
    "nbpresent": {
     "id": "f8aa0c94-7379-497f-ba24-1d687553de0a"
    },
    "slideshow": {
     "slide_type": "subslide"
    }
   },
   "source": [
    "### Reference-style: \n",
    "![alt text][R_Markdown]\n",
    "\n",
    "[R_Markdown]: https://d33wubrfki0l68.cloudfront.net/c40ce5f7cd12d07c0cb83aebf301e210500f6218/7e628/lesson-images/params-1-hawaii.png"
   ]
  },
  {
   "cell_type": "markdown",
   "metadata": {
    "nbpresent": {
     "id": "34369857-62eb-45d3-b648-6858d53bd0ba"
    },
    "slideshow": {
     "slide_type": "subslide"
    }
   },
   "source": [
    "### HTML-style\n",
    "afin de controler la largeur de l'image par exemple:"
   ]
  },
  {
   "cell_type": "markdown",
   "metadata": {
    "nbpresent": {
     "id": "8c200ec1-cbf1-4827-9be4-01ea1c9acd73"
    },
    "slideshow": {
     "slide_type": "fragment"
    }
   },
   "source": [
    "**code**\n",
    "\n",
    "```html\n",
    "<img src=\"smiley.gif\" alt=\"Smiley face\" height=\"42\" width=\"42\">\n",
    "```"
   ]
  },
  {
   "cell_type": "markdown",
   "metadata": {
    "nbpresent": {
     "id": "75617ca1-2cf2-42b8-a0d4-4ff4844b1a32"
    },
    "slideshow": {
     "slide_type": "fragment"
    }
   },
   "source": [
    "<center><img src=\"https://d33wubrfki0l68.cloudfront.net/c40ce5f7cd12d07c0cb83aebf301e210500f6218/7e628/lesson-images/params-1-hawaii.png\" alt=\"R Markdown\" height=\"250\" width=\"400\"></center>\n",
    "               "
   ]
  },
  {
   "cell_type": "markdown",
   "metadata": {
    "nbpresent": {
     "id": "ccd4d5ef-9e87-4818-914d-c9e8d43f400d"
    },
    "slideshow": {
     "slide_type": "slide"
    }
   },
   "source": [
    "## giphy"
   ]
  },
  {
   "cell_type": "markdown",
   "metadata": {
    "nbpresent": {
     "id": "98be90a0-695a-4789-a50a-559c9ea214c5"
    },
    "slideshow": {
     "slide_type": "subslide"
    }
   },
   "source": [
    "![alt text](https://media.giphy.com/media/citBl9yPwnUOs/giphy.gif \"le titre de l'image\")\n",
    "\n"
   ]
  },
  {
   "cell_type": "markdown",
   "metadata": {
    "nbpresent": {
     "id": "6e4742f0-588d-43ea-9ace-64dd643fe0fd"
    },
    "slideshow": {
     "slide_type": "slide"
    }
   },
   "source": [
    "## Youtube ou Vimeo"
   ]
  },
  {
   "cell_type": "markdown",
   "metadata": {
    "nbpresent": {
     "id": "b8cb4365-a185-41eb-8fd7-aa7d5ea09a25"
    },
    "slideshow": {
     "slide_type": "subslide"
    }
   },
   "source": [
    "**code**\n",
    "\n",
    "```markdown\n",
    "[![Change the World](https://i.ytimg.com/vi/B0CJpIh8d94/maxresdefault.jpg)](https://youtu.be/3sK3wJAxGfs \"Inspiring: Change the World by Making Your Bed - by Admiral William McRaven - Must Watch!\")\n",
    "```"
   ]
  },
  {
   "cell_type": "markdown",
   "metadata": {
    "nbpresent": {
     "id": "7eaacc5a-4eb3-4812-9abd-ac110240d8d7"
    },
    "slideshow": {
     "slide_type": "subslide"
    }
   },
   "source": [
    "[![Change the World](https://i.ytimg.com/vi/B0CJpIh8d94/maxresdefault.jpg)](https://youtu.be/3sK3wJAxGfs \"Inspiring: Change the World by Making Your Bed - by Admiral William McRaven - Must Watch!\")"
   ]
  },
  {
   "cell_type": "markdown",
   "metadata": {
    "nbpresent": {
     "id": "672224ba-6fb3-4330-9a2e-9870ca7c69c9"
    },
    "slideshow": {
     "slide_type": "slide"
    }
   },
   "source": [
    "# Du code"
   ]
  },
  {
   "cell_type": "markdown",
   "metadata": {
    "nbpresent": {
     "id": "295aae3c-ce10-4a94-8663-ac58c05e5f9f"
    },
    "slideshow": {
     "slide_type": "subslide"
    }
   },
   "source": [
    "On peut mettre du `code` à l'intérieur même du texte\n",
    "\n",
    "\n",
    "**code**\n",
    "\n",
    "```html\n",
    "On peut mettre du `code` à l'intérieur même du texte\n",
    "```\n"
   ]
  },
  {
   "cell_type": "markdown",
   "metadata": {
    "nbpresent": {
     "id": "6f425c88-e699-4337-b7c7-af05a7943bf7"
    },
    "slideshow": {
     "slide_type": "subslide"
    }
   },
   "source": [
    "Par exemple :\n",
    "```javascript\n",
    "var s = \"JavaScript syntax highlighting\";\n",
    "alert(s);\n",
    "```\n",
    " \n",
    "```python\n",
    "s = \"Python syntax highlighting\"\n",
    "print s\n",
    "```\n",
    " \n",
    "```\n",
    "No language indicated, so no syntax highlighting. \n",
    "But let's throw in a <b>tag</b>.\n",
    "```"
   ]
  },
  {
   "cell_type": "markdown",
   "metadata": {
    "nbpresent": {
     "id": "83b1dd42-7784-49f5-81b3-38ea4a33b196"
    },
    "slideshow": {
     "slide_type": "subslide"
    }
   },
   "source": [
    "**code**\n",
    "\n",
    "\n",
    "    ```codeXYZ\n",
    "    var s = \"JavaScript syntax highlighting\";\n",
    "    alert(s);\n",
    "    ```"
   ]
  }
 ],
 "metadata": {
  "kernelspec": {
   "display_name": "R",
   "language": "R",
   "name": "ir"
  },
  "language_info": {
   "codemirror_mode": "r",
   "file_extension": ".r",
   "mimetype": "text/x-r-source",
   "name": "R",
   "pygments_lexer": "r",
   "version": "3.6.1"
  }
 },
 "nbformat": 4,
 "nbformat_minor": 4
}
